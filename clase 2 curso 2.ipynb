{
 "cells": [
  {
   "cell_type": "markdown",
   "metadata": {},
   "source": [
    "Primera simulación: Una moneda justa (?).\n",
    "Dada una moneda con dos caras (con aguila y sol, o 0 y 1), determina cual es la probabilidad de que al tirar la moneda 30 veces, al menos 22 de ellas sean sol."
   ]
  },
  {
   "cell_type": "code",
   "execution_count": 27,
   "metadata": {},
   "outputs": [],
   "source": [
    "import numpy as np\n",
    "\n",
    "def moneda1(n = 10000):\n",
    "    c = 0\n",
    "    for _ in range(n):\n",
    "        m = int(np.random.randint(0, 2, 30).sum())\n",
    "        if m >= 22:\n",
    "            c += 1\n",
    "            \n",
    "    return c / n"
   ]
  },
  {
   "cell_type": "code",
   "execution_count": 30,
   "metadata": {},
   "outputs": [
    {
     "data": {
      "text/plain": [
       "0.0079"
      ]
     },
     "execution_count": 30,
     "metadata": {},
     "output_type": "execute_result"
    }
   ],
   "source": [
    "moneda1(100000)"
   ]
  },
  {
   "cell_type": "code",
   "execution_count": 34,
   "metadata": {},
   "outputs": [],
   "source": [
    "def moneda1(n = 10000, x = 30, e =22):\n",
    "    c = 0\n",
    "    for _ in range(n):\n",
    "        m = int(np.random.randint(0, 2, x).sum())\n",
    "        if m >= 22:\n",
    "            c += 1\n",
    "            \n",
    "    return c / n"
   ]
  },
  {
   "cell_type": "code",
   "execution_count": 36,
   "metadata": {},
   "outputs": [
    {
     "data": {
      "text/plain": [
       "0.0072"
      ]
     },
     "execution_count": 36,
     "metadata": {},
     "output_type": "execute_result"
    }
   ],
   "source": [
    "moneda1(x =30, e=22)"
   ]
  },
  {
   "cell_type": "markdown",
   "metadata": {},
   "source": [
    "Segunda simulación: Una moneda justa (?) parte 2.\n",
    "Dada una moneda con dos caras (con aguila y sol, o 0 y 1), determina cual es la probabilidad de que al tirar la moneda 30 veces, al menos las primeras 22 de ellas sean sol."
   ]
  },
  {
   "cell_type": "code",
   "execution_count": 77,
   "metadata": {},
   "outputs": [],
   "source": [
    "def moneda2(n = 1000000, x = 30, e = 22):\n",
    "    c = 0\n",
    "    for _ in range(n):\n",
    "        m = np.random.randint(0, 2, x)\n",
    "        mr = m[: e]\n",
    "        if int(mr.sum()) == e:\n",
    "            c += 1\n",
    "            \n",
    "    return c / n"
   ]
  },
  {
   "cell_type": "code",
   "execution_count": 78,
   "metadata": {},
   "outputs": [
    {
     "data": {
      "text/plain": [
       "1e-06"
      ]
     },
     "execution_count": 78,
     "metadata": {},
     "output_type": "execute_result"
    }
   ],
   "source": [
    "moneda2(x = 30, e = 22)"
   ]
  },
  {
   "cell_type": "code",
   "execution_count": null,
   "metadata": {},
   "outputs": [],
   "source": []
  },
  {
   "cell_type": "code",
   "execution_count": null,
   "metadata": {},
   "outputs": [],
   "source": []
  }
 ],
 "metadata": {
  "kernelspec": {
   "display_name": "mi_primer_entorno",
   "language": "python",
   "name": "python3"
  },
  "language_info": {
   "codemirror_mode": {
    "name": "ipython",
    "version": 3
   },
   "file_extension": ".py",
   "mimetype": "text/x-python",
   "name": "python",
   "nbconvert_exporter": "python",
   "pygments_lexer": "ipython3",
   "version": "3.12.9"
  }
 },
 "nbformat": 4,
 "nbformat_minor": 2
}
